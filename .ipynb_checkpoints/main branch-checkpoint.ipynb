{
 "cells": [
  {
   "cell_type": "code",
   "execution_count": 5,
   "id": "ddede0ca-4a03-422f-875f-13a677ebd835",
   "metadata": {},
   "outputs": [
    {
     "name": "stdout",
     "output_type": "stream",
     "text": [
      "C:\\Users\\Yonathan\\Desktop\\FinTech\\Project1\n",
      "04-01-2021\n",
      "04-02-2021\n",
      "04-03-2021\n",
      "04-04-2021\n",
      "04-05-2021\n",
      "04-06-2021\n",
      "04-07-2021\n",
      "04-08-2021\n",
      "04-09-2021\n",
      "04-10-2021\n",
      "04-11-2021\n",
      "04-12-2021\n",
      "04-13-2021\n",
      "04-14-2021\n",
      "04-15-2021\n",
      "04-16-2021\n",
      "04-17-2021\n",
      "04-18-2021\n",
      "04-19-2021\n",
      "04-20-2021\n",
      "04-21-2021\n",
      "04-22-2021\n",
      "04-23-2021\n",
      "04-24-2021\n",
      "04-25-2021\n",
      "04-26-2021\n",
      "04-27-2021\n",
      "04-28-2021\n",
      "04-29-2021\n",
      "04-30-2021\n",
      "05-01-2021\n",
      "05-02-2021\n",
      "05-03-2021\n",
      "05-04-2021\n",
      "05-05-2021\n",
      "05-06-2021\n",
      "05-07-2021\n",
      "05-08-2021\n",
      "05-09-2021\n",
      "05-10-2021\n",
      "05-11-2021\n",
      "05-12-2021\n",
      "05-13-2021\n",
      "05-14-2021\n",
      "05-15-2021\n",
      "05-16-2021\n",
      "05-17-2021\n",
      "05-18-2021\n",
      "05-19-2021\n",
      "05-20-2021\n",
      "05-21-2021\n",
      "05-22-2021\n",
      "05-23-2021\n",
      "05-24-2021\n",
      "05-25-2021\n",
      "05-26-2021\n",
      "05-27-2021\n",
      "05-28-2021\n",
      "05-29-2021\n",
      "05-30-2021\n",
      "05-31-2021\n",
      "06-01-2021\n",
      "06-02-2021\n",
      "06-03-2021\n",
      "06-04-2021\n",
      "06-05-2021\n",
      "06-06-2021\n",
      "06-07-2021\n",
      "06-08-2021\n",
      "06-09-2021\n",
      "06-10-2021\n",
      "06-11-2021\n"
     ]
    },
    {
     "data": {
      "text/html": [
       "<div>\n",
       "<style scoped>\n",
       "    .dataframe tbody tr th:only-of-type {\n",
       "        vertical-align: middle;\n",
       "    }\n",
       "\n",
       "    .dataframe tbody tr th {\n",
       "        vertical-align: top;\n",
       "    }\n",
       "\n",
       "    .dataframe thead th {\n",
       "        text-align: right;\n",
       "    }\n",
       "</style>\n",
       "<table border=\"1\" class=\"dataframe\">\n",
       "  <thead>\n",
       "    <tr style=\"text-align: right;\">\n",
       "      <th></th>\n",
       "      <th>Symbol</th>\n",
       "      <th>Aggregate Rewards</th>\n",
       "    </tr>\n",
       "  </thead>\n",
       "  <tbody>\n",
       "    <tr>\n",
       "      <th>0</th>\n",
       "      <td>USDC</td>\n",
       "      <td>0.005901</td>\n",
       "    </tr>\n",
       "    <tr>\n",
       "      <th>1</th>\n",
       "      <td>DAI</td>\n",
       "      <td>0.009944</td>\n",
       "    </tr>\n",
       "    <tr>\n",
       "      <th>2</th>\n",
       "      <td>USDT</td>\n",
       "      <td>0.023327</td>\n",
       "    </tr>\n",
       "    <tr>\n",
       "      <th>3</th>\n",
       "      <td>ALGO</td>\n",
       "      <td>0.059588</td>\n",
       "    </tr>\n",
       "  </tbody>\n",
       "</table>\n",
       "</div>"
      ],
      "text/plain": [
       "  Symbol  Aggregate Rewards\n",
       "0   USDC           0.005901\n",
       "1    DAI           0.009944\n",
       "2   USDT           0.023327\n",
       "3   ALGO           0.059588"
      ]
     },
     "execution_count": 5,
     "metadata": {},
     "output_type": "execute_result"
    }
   ],
   "source": [
    "# %%\n",
    "import requests\n",
    "import json\n",
    "import pandas as pd\n",
    "from datetime import datetime, timedelta\n",
    "import time\n",
    "from pathlib import Path\n",
    "import csv\n",
    "import os\n",
    "print(os.getcwd())\n",
    "import matplotlib.pyplot as plt\n",
    "# %%\n",
    "def apy(apy):\n",
    "    return (1 + apy)**(1/365) - 1 # Returns a daily nominal interest rate (for use with returns)\n",
    "# %%\n",
    "def drpy(drpy): # Returns the daily rewards percentage\n",
    "    return (drpy/365)\n",
    "# %%\n",
    "class CurrencyConfig:\n",
    "    def __init__(self, Currency_Name, MaximumLTV, Liquidationthreshold, Liquidationpenalty, Ideal_UTIL, BASE, at_ideal, at_Full, Reserve_Factor):\n",
    "       self.Currency_Name = Currency_Name\n",
    "       self.MaximumLTV = MaximumLTV\n",
    "       self.Liquidationthreshold = Liquidationthreshold\n",
    "       self.Liquidationpenalty = Liquidationpenalty\n",
    "       self.Ideal_UTIL = Ideal_UTIL\n",
    "       self.BASE = BASE\n",
    "       self.at_ideal = at_ideal\n",
    "       self.at_Full = at_Full\n",
    "       self.Reserve_Factor = Reserve_Factor\n",
    "    def UTIL (self, totalVariableDebt, totalLiquidity):\n",
    "        totalVariableDebt = pd.to_numeric(totalVariableDebt)\n",
    "        totalLiquidity= pd.to_numeric(totalLiquidity)\n",
    "        return (totalVariableDebt / totalLiquidity)\n",
    "    def Variable_Rate (self, totalVariableDebt, totalLiquidity):\n",
    "        aaa = []\n",
    "        for i in self.UTIL(totalVariableDebt, totalLiquidity):\n",
    "            if i < self.Ideal_UTIL:\n",
    "                aaa.append((i / self.Ideal_UTIL) * self.at_ideal)\n",
    "            elif i >= self.Ideal_UTIL:\n",
    "                aaa.append(self.at_ideal + ((i - self.Ideal_UTIL) / (1 - self.Ideal_UTIL)) * self.at_Full)\n",
    "        return (aaa)\n",
    "    def Lend_APY (self, totalVariableDebt, totalLiquidity):\n",
    "        return (self.Variable_Rate(totalVariableDebt, totalLiquidity)) * (1 - self.Reserve_Factor)\n",
    "    def MAXLend (self):\n",
    "        return (1/(1-self.MaximumLTV))\n",
    "    def MAXBorrow (self):\n",
    "        return (self.MAXLend() * self.MaximumLTV)\n",
    "currency_dict = {\n",
    "    'WMATIC' : CurrencyConfig(\"WMATIC\", 0.5, 0.65, 0.1, 0.45, 0, 0.07, 3, 0.2),\n",
    "    'DAI' : CurrencyConfig(\"DAI\", 0.75, 0.80, 0.05, 0.8, 0, 0.04, 0.75, 0.1),\n",
    "    'USDC' : CurrencyConfig(\"USDC\", 0.8, 0.85, 0.05, 0.9, 0, 0.04, 0.6, 0.1),\n",
    "    'USDT' : CurrencyConfig(\"USDT\", 0, 0, 0, 0.9, 0, 0.04, 0.6, 0.1),\n",
    "    'WETH' : CurrencyConfig(\"WETH\", 0.8, 0.825, 0.05, 0.65, 0, 0.08, 1, 0.1),\n",
    "    'WBTC' : CurrencyConfig(\"WBTC\", 0.7, 0.75, 0.1, 0.45, 0, 0.07, 1, 0.2),\n",
    "    'AAVE' : CurrencyConfig(\"AAVE\", 0.5, 0.65, 0.1, 0, 0, 0, 0, 0)\n",
    "}\n",
    "\n",
    "\n",
    "# %%\n",
    "base_url = 'https://aave-api-v2.aave.com/data/liquidity/v2?poolId=' # This is the base API URL\n",
    "pool_id = '0xd05e3e715d945b59290df0ae8ef85c1bdb684744' # This is the Pool ID for the Matic Network\n",
    "# %%\n",
    "# Open the file for w+ (will create it if it doesn't exist)\n",
    "# Read the last line of the file and check the date\n",
    "# If it's empty just run from 04-01\n",
    "# If it's a date but not yesterday, use that as the start date\n",
    "# If it's yesterday, don't run\n",
    "\n",
    "# %%\n",
    "range_of_dates = pd.date_range(start = \"2021-04-01\",end = (datetime.today() - timedelta(days = 1))).date # List of dates from the start of the AAVE API to yesterday\n",
    "list_of_dates = []\n",
    "for date in range_of_dates: # For each date in the list of dates\n",
    "    list_of_dates.append(date.strftime(\"%m-%d-%Y\")) # Format it correctly for use in the API and append it to a new list\n",
    "# %%\n",
    "col_names = ['Date','Symbol','USD', 'Deposit Rate', 'Deposit Rewards', 'Borrow Rate', 'Borrow Rewards', 'availableLiquidity', 'totalVariableDebt'] # These are the fields we want\n",
    "matic_dataframe = pd.DataFrame(columns = col_names) # Create an empty DataFrame with the column headers\n",
    "# %%\n",
    "for date in list_of_dates: # For each date in the list\n",
    "    print(date) # Show progress as the API is running\n",
    "    request_url = base_url + pool_id + '&date=' + date # Build the Request URL by combining the base, poolID we want, and one date out of the list of dates\n",
    "    response_data = requests.get(request_url).json() # Make the request and return the data\n",
    "    while isinstance(response_data, dict) == True: # If we get an error back\n",
    "        print(json.dumps(response_data, indent=4)) # Dump the error\n",
    "        time.sleep(5) # Wait 5 seconds to get around rate limiting\n",
    "        response_data = requests.get(request_url).json() # Try again\n",
    "    for response in response_data: # For each element in the response\n",
    "        if response['symbol'] in ['USDC', 'DAI', 'USDT']: # If the element in the response is a StableCoin\n",
    "            dict_to_append = { # Set the values of the row we want to append to the DataFrame\n",
    "                'Date' : date, # Date is the date we queried for\n",
    "                'Symbol' : response['symbol'], # Set symbol in the row to the symbol the API returns\n",
    "                'USD' : response['referenceItem']['priceInUsd'], # Set price in the row to the price in Eth the API returns\n",
    "                'Deposit Rate' : response['liquidityRate'], # Set deposit rate to the deposit rate the API returns\n",
    "                'Deposit Rewards' : response['aIncentivesAPY'], # Set deposit rewards to the rate the API returns\n",
    "                'Borrow Rate' : response['variableBorrowRate'],\n",
    "                'Borrow Rewards' : response['vIncentivesAPY'],\n",
    "                'availableLiquidity' : response['availableLiquidity'],\n",
    "                'totalVariableDebt' : response['totalVariableDebt']\n",
    "            }\n",
    "            matic_dataframe = matic_dataframe.append(dict_to_append, ignore_index = True) # Append the row to the DataFrame\n",
    "            # Write the line to the file\n",
    "            # Move the stuff around it checks the file every time it goes to call the API (combine the cells)\n",
    "# Close the file\n",
    "# %%\n",
    "#--------Once you've imported the data, only ever run from this cell downwards---------\n",
    "editing_dataframe = matic_dataframe.copy() # Create a copy of the dataframe\n",
    "editing_dataframe.head()\n",
    "file_path = Path(\"api_data.csv\")\n",
    "editing_dataframe.to_csv(file_path)\n",
    "# %%\n",
    "editing_dataframe['Borrow Rate'] = editing_dataframe['Borrow Rate'].astype(float) # Set data type to float \n",
    "editing_dataframe['Deposit Rate'] = editing_dataframe['Deposit Rate'].astype(float) # Set data type to float\n",
    "editing_dataframe['Borrow Rewards'] = editing_dataframe['Borrow Rewards'].astype(float) # Set data type to float\n",
    "editing_dataframe['Deposit Rewards'] = editing_dataframe['Deposit Rewards'].astype(float) # Set data type to float\n",
    "# editing_dataframe.tail() # Use editing_dataframe as your reference dataframe moving forward until the CSV writing gets completed.\n",
    "\n",
    "col_names = ['Date', 'Borrow Token', 'Deposit Token', 'Return Difference', 'Lend Size', 'Borrow Size', 'Rewards Gained', 'Initial Investment'] # These are the fields we want\n",
    "other_dataframe = pd.DataFrame(columns = col_names)\n",
    "other_dataframe['Date'] = other_dataframe['Date'].astype(str)\n",
    "other_dataframe['Borrow Token'] = other_dataframe['Borrow Token'].astype(str)\n",
    "other_dataframe['Deposit Token'] = other_dataframe['Deposit Token'].astype(str)\n",
    "other_dataframe['Lend Size'] = other_dataframe['Lend Size'].astype(float)\n",
    "other_dataframe['Borrow Size'] = other_dataframe['Borrow Size'].astype(float)\n",
    "# %%\n",
    "initial_investment = 10000\n",
    "for date in list_of_dates:\n",
    "    min_borrow = editing_dataframe.loc[editing_dataframe['Date'] == date]['Borrow Rate'].min()\n",
    "    max_deposit = editing_dataframe.loc[(editing_dataframe['Date'] == date)]['Deposit Rate'].max()\n",
    "    max_deposit_non_USDT = editing_dataframe.loc[(editing_dataframe['Date'] == date) & (editing_dataframe['Symbol'] != 'USDT')]['Deposit Rate'].max()\n",
    "    min_borrow_row = editing_dataframe.loc[(editing_dataframe['Date'] == date) & (editing_dataframe['Borrow Rate'] == min_borrow)]\n",
    "    max_deposit_row = editing_dataframe.loc[(editing_dataframe['Date'] == date) & (editing_dataframe['Deposit Rate'] ==  max_deposit)]\n",
    "    max_deposit_row_non_USDT = editing_dataframe.loc[(editing_dataframe['Date'] == date) & (editing_dataframe['Deposit Rate'] ==  max_deposit_non_USDT)]\n",
    "    if (min_borrow < max_deposit_non_USDT):\n",
    "        max_lend_leverage = currency_dict[max_deposit_row_non_USDT['Symbol'].values[0]].MAXLend()\n",
    "        min_borrow_leverage = currency_dict[max_deposit_row_non_USDT['Symbol'].values[0]].MAXBorrow()\n",
    "        initial_investment = (initial_investment*(1+apy(max_deposit_non_USDT*(max_lend_leverage) - min_borrow*(min_borrow_leverage))+drpy(min_borrow_row['Borrow Rewards'].values[0]*(min_borrow_leverage) + max_deposit_row_non_USDT['Deposit Rewards'].values[0]*(max_lend_leverage))))\n",
    "        dict_to_append = { # Set the values of the row we want to append to the DataFrame\n",
    "                'Date' : date,\n",
    "                'Borrow Token' : min_borrow_row['Symbol'].values[0],\n",
    "                'Deposit Token' : max_deposit_row_non_USDT['Symbol'].values[0],\n",
    "                'Return Difference' : apy(max_deposit_non_USDT*(max_lend_leverage) - min_borrow*(min_borrow_leverage)),\n",
    "                'Lend Size' : max_lend_leverage,\n",
    "                'Borrow Size' : min_borrow_leverage,\n",
    "                'Rewards Gained' : drpy(min_borrow_row['Borrow Rewards'].values[0]*(min_borrow_leverage) + max_deposit_row_non_USDT['Deposit Rewards'].values[0]*(max_lend_leverage)),\n",
    "                'Initial Investment' : initial_investment\n",
    "            }\n",
    "    else:\n",
    "        initial_investment = initial_investment*(1+apy(max_deposit)+drpy(max_deposit_row['Deposit Rewards'].values[0]))\n",
    "        dict_to_append = { # Set the values of the row we want to append to the DataFrame\n",
    "                'Date' : date,\n",
    "                'Borrow Token' : \"N/A\",\n",
    "                'Deposit Token' : max_deposit_row['Symbol'].values[0],\n",
    "                'Return Difference' : apy(max_deposit),\n",
    "                'Lend Size' : 0,\n",
    "                'Borrow Size' : 0,\n",
    "                'Rewards Gained': drpy(max_deposit_row['Deposit Rewards'].values[0]),\n",
    "                'Initial Investment' : initial_investment\n",
    "        }\n",
    "    other_dataframe = other_dataframe.append(dict_to_append, ignore_index = True)\n",
    "other_dataframe.head(67)\n",
    "# %%\n",
    "#editing_dataframe.loc[editing_dataframe['Date'] == \"04-05-2021\"]\n",
    "# %%\n",
    "returns_dataframe = matic_dataframe.copy()\n",
    "returns_dataframe['USD'] = pd.to_numeric(returns_dataframe['USD'])\n",
    "returns_dataframe['Deposit Rate'] = pd.to_numeric(returns_dataframe['Deposit Rate'])\n",
    "returns_dataframe['Deposit Rewards'] = pd.to_numeric(returns_dataframe['Deposit Rewards'])\n",
    "returns_dataframe['Borrow Rate'] = pd.to_numeric(returns_dataframe['Borrow Rate'])\n",
    "returns_dataframe.head()\n",
    "\n",
    "# %%\n",
    "col_names = ['Symbol','Aggregate Rewards']\n",
    "rewards_dataframe = pd.DataFrame(columns = col_names)\n",
    "for symbol in editing_dataframe['Symbol'].unique():\n",
    "    dict_to_append = {\n",
    "        'Symbol': symbol,\n",
    "        'Aggregate Rewards': drpy(editing_dataframe.loc[editing_dataframe['Symbol'] == symbol,'Deposit Rewards'].astype(float)).sum()\n",
    "    }\n",
    "    rewards_dataframe = rewards_dataframe.append(dict_to_append, ignore_index = True)\n",
    "dict_to_append = {\n",
    "        'Symbol': 'ALGO',\n",
    "        'Aggregate Rewards': other_dataframe['Rewards Gained'].sum()\n",
    "    }\n",
    "rewards_dataframe = rewards_dataframe.append(dict_to_append, ignore_index = True)\n",
    "rewards_dataframe.head()\n",
    "# %%\n",
    "# TO DO: PLOTS AND PRESENTATION"
   ]
  },
  {
   "cell_type": "code",
   "execution_count": 6,
   "id": "9ae77690-160e-4efc-944b-318f27cc6e44",
   "metadata": {},
   "outputs": [
    {
     "data": {
      "text/html": [
       "<div>\n",
       "<style scoped>\n",
       "    .dataframe tbody tr th:only-of-type {\n",
       "        vertical-align: middle;\n",
       "    }\n",
       "\n",
       "    .dataframe tbody tr th {\n",
       "        vertical-align: top;\n",
       "    }\n",
       "\n",
       "    .dataframe thead th {\n",
       "        text-align: right;\n",
       "    }\n",
       "</style>\n",
       "<table border=\"1\" class=\"dataframe\">\n",
       "  <thead>\n",
       "    <tr style=\"text-align: right;\">\n",
       "      <th></th>\n",
       "      <th>Date</th>\n",
       "      <th>Borrow Token</th>\n",
       "      <th>Deposit Token</th>\n",
       "      <th>Return Difference</th>\n",
       "      <th>Lend Size</th>\n",
       "      <th>Borrow Size</th>\n",
       "      <th>Rewards Gained</th>\n",
       "      <th>Initial Investment</th>\n",
       "    </tr>\n",
       "  </thead>\n",
       "  <tbody>\n",
       "    <tr>\n",
       "      <th>0</th>\n",
       "      <td>04-01-2021</td>\n",
       "      <td>USDC</td>\n",
       "      <td>DAI</td>\n",
       "      <td>0.000163</td>\n",
       "      <td>4.0</td>\n",
       "      <td>3.0</td>\n",
       "      <td>0.001005</td>\n",
       "      <td>10011.681836</td>\n",
       "    </tr>\n",
       "    <tr>\n",
       "      <th>1</th>\n",
       "      <td>04-02-2021</td>\n",
       "      <td>USDC</td>\n",
       "      <td>DAI</td>\n",
       "      <td>0.000163</td>\n",
       "      <td>4.0</td>\n",
       "      <td>3.0</td>\n",
       "      <td>0.001005</td>\n",
       "      <td>10023.376302</td>\n",
       "    </tr>\n",
       "    <tr>\n",
       "      <th>2</th>\n",
       "      <td>04-03-2021</td>\n",
       "      <td>USDC</td>\n",
       "      <td>DAI</td>\n",
       "      <td>0.000163</td>\n",
       "      <td>4.0</td>\n",
       "      <td>3.0</td>\n",
       "      <td>0.001005</td>\n",
       "      <td>10035.083409</td>\n",
       "    </tr>\n",
       "    <tr>\n",
       "      <th>3</th>\n",
       "      <td>04-04-2021</td>\n",
       "      <td>USDC</td>\n",
       "      <td>DAI</td>\n",
       "      <td>0.000163</td>\n",
       "      <td>4.0</td>\n",
       "      <td>3.0</td>\n",
       "      <td>0.001005</td>\n",
       "      <td>10046.803170</td>\n",
       "    </tr>\n",
       "    <tr>\n",
       "      <th>4</th>\n",
       "      <td>04-05-2021</td>\n",
       "      <td>USDC</td>\n",
       "      <td>DAI</td>\n",
       "      <td>0.000163</td>\n",
       "      <td>4.0</td>\n",
       "      <td>3.0</td>\n",
       "      <td>0.001005</td>\n",
       "      <td>10058.535598</td>\n",
       "    </tr>\n",
       "  </tbody>\n",
       "</table>\n",
       "</div>"
      ],
      "text/plain": [
       "         Date Borrow Token Deposit Token  Return Difference  Lend Size  \\\n",
       "0  04-01-2021         USDC           DAI           0.000163        4.0   \n",
       "1  04-02-2021         USDC           DAI           0.000163        4.0   \n",
       "2  04-03-2021         USDC           DAI           0.000163        4.0   \n",
       "3  04-04-2021         USDC           DAI           0.000163        4.0   \n",
       "4  04-05-2021         USDC           DAI           0.000163        4.0   \n",
       "\n",
       "   Borrow Size  Rewards Gained  Initial Investment  \n",
       "0          3.0        0.001005        10011.681836  \n",
       "1          3.0        0.001005        10023.376302  \n",
       "2          3.0        0.001005        10035.083409  \n",
       "3          3.0        0.001005        10046.803170  \n",
       "4          3.0        0.001005        10058.535598  "
      ]
     },
     "execution_count": 6,
     "metadata": {},
     "output_type": "execute_result"
    }
   ],
   "source": [
    "other_dataframe.head()"
   ]
  },
  {
   "cell_type": "code",
   "execution_count": 7,
   "id": "8025bf75-8349-4a8a-93d8-546d2e096f62",
   "metadata": {},
   "outputs": [
    {
     "data": {
      "image/png": "[encoded data removed]",
      "text/plain": [
       "<Figure size 432x288 with 1 Axes>"
      ]
     },
     "metadata": {
      "needs_background": "light"
     },
     "output_type": "display_data"
    }
   ],
   "source": [
    "PLT3 = other_dataframe.plot.line(x='Date', y='Initial Investment', rot=60, label = 'Initial Investment Return(s)')\n"
   ]
  },
  {
   "cell_type": "code",
   "execution_count": 8,
   "id": "caa5fd1e-8679-47b0-8a56-8824abebd270",
   "metadata": {},
   "outputs": [],
   "source": [
    "DAI_RE = rewards_dataframe.loc[rewards_dataframe['Symbol']=='DAI']\n",
    "USDT_RE = rewards_dataframe.loc[rewards_dataframe['Symbol']=='USDT']\n",
    "USDC_RE = rewards_dataframe.loc[rewards_dataframe['Symbol']=='USDC']"
   ]
  },
  {
   "cell_type": "code",
   "execution_count": 9,
   "id": "470f4191-bb1d-40e9-b466-7d20e0f1a7e7",
   "metadata": {},
   "outputs": [
    {
     "data": {
      "text/plain": [
       "<AxesSubplot:title={'center':'Aggregate Rewards Over Time'}, xlabel='Symbol'>"
      ]
     },
     "execution_count": 9,
     "metadata": {},
     "output_type": "execute_result"
    },
    {
     "data": {
      "image/png": "[encoded data removed]",
      "text/plain": [
       "<Figure size 432x288 with 1 Axes>"
      ]
     },
     "metadata": {
      "needs_background": "light"
     },
     "output_type": "display_data"
    }
   ],
   "source": [
    "rewards_dataframe.plot.bar(x=\"Symbol\", y ='Aggregate Rewards', color = 'purple', title ='Aggregate Rewards Over Time')"
   ]
  },
  {
   "cell_type": "code",
   "execution_count": 5,
   "id": "5a80a7ca-4776-49e7-bd10-48985f2d0188",
   "metadata": {},
   "outputs": [],
   "source": [
    "DAI_OT = returns_dataframe.loc[returns_dataframe['Symbol']=='DAI']\n",
    "USDT_OT = returns_dataframe.loc[returns_dataframe['Symbol']=='USDT']\n",
    "USDC_OT = returns_dataframe.loc[returns_dataframe['Symbol']=='USDC']"
   ]
  },
  {
   "cell_type": "code",
   "execution_count": 6,
   "id": "27ad274f-0934-4d63-966a-ddf9e2331651",
   "metadata": {},
   "outputs": [],
   "source": [
    "DAI_RET = returns_dataframe.loc[returns_dataframe['Symbol']=='DAI']\n",
    "USDT_RET = returns_dataframe.loc[returns_dataframe['Symbol']=='USDT']\n",
    "USDC_RET= returns_dataframe.loc[returns_dataframe['Symbol']=='USDC']"
   ]
  },
  {
   "cell_type": "code",
   "execution_count": 7,
   "id": "b7356a20-d86d-445d-bb2e-ce6bd109b543",
   "metadata": {},
   "outputs": [
    {
     "data": {
      "text/plain": [
       "<AxesSubplot:title={'center':'Lending Rate for each Stable coin'}, xlabel='Date'>"
      ]
     },
     "execution_count": 7,
     "metadata": {},
     "output_type": "execute_result"
    },
    {
     "data": {
      "image/png": "[encoded data removed]",
      "text/plain": [
       "<Figure size 432x288 with 1 Axes>"
      ]
     },
     "metadata": {
      "needs_background": "light"
     },
     "output_type": "display_data"
    }
   ],
   "source": [
    "PLT1 = USDC_RET.plot.line(x='Date', y='Deposit Rate', rot=90, label = 'USDC', )\n",
    "DAI_RET.plot.line(x='Date', y='Deposit Rate', rot=90, ax=PLT1, label = 'DAI')\n",
    "USDT_RET.plot.line(x='Date', y='Deposit Rate', rot=45, ax = PLT1, label = 'USDT', title = \"Lending Rate for each Stable coin\")\n",
    "# Needs to be graphed: Borrow Rate, Borrow Rewards, and Lending Rewards\n",
    "# Copy & Paste will work for Borrow Rate. rewards_dataframe should be used for Borrow Rewards and Lending Rewards."
   ]
  },
  {
   "cell_type": "code",
   "execution_count": 8,
   "id": "eea23021-ef18-44de-81ed-46a067aabeac",
   "metadata": {},
   "outputs": [
    {
     "data": {
      "text/plain": [
       "<AxesSubplot:title={'center':'Borrow Rate for each Stable coin'}, xlabel='Date'>"
      ]
     },
     "execution_count": 8,
     "metadata": {},
     "output_type": "execute_result"
    },
    {
     "data": {
      "image/png": "[encoded data removed]",
      "text/plain": [
       "<Figure size 432x288 with 1 Axes>"
      ]
     },
     "metadata": {
      "needs_background": "light"
     },
     "output_type": "display_data"
    }
   ],
   "source": [
    "PLT2 = USDC_RET.plot.line(x='Date', y='Borrow Rate', rot=90, label = 'USDC', )\n",
    "DAI_RET.plot.line(x='Date', y='Borrow Rate', rot=90, ax=PLT2, label = 'DAI')\n",
    "USDT_RET.plot.line(x='Date', y='Borrow Rate', rot=45, ax = PLT2, label = 'USDT', title = \"Borrow Rate for each Stable coin\")"
   ]
  },
  {
   "cell_type": "code",
   "execution_count": 9,
   "id": "415b3a7c-4754-40da-812a-d75f6a9cbc31",
   "metadata": {},
   "outputs": [
    {
     "data": {
      "text/html": [
       "<div>\n",
       "<style scoped>\n",
       "    .dataframe tbody tr th:only-of-type {\n",
       "        vertical-align: middle;\n",
       "    }\n",
       "\n",
       "    .dataframe tbody tr th {\n",
       "        vertical-align: top;\n",
       "    }\n",
       "\n",
       "    .dataframe thead th {\n",
       "        text-align: right;\n",
       "    }\n",
       "</style>\n",
       "<table border=\"1\" class=\"dataframe\">\n",
       "  <thead>\n",
       "    <tr style=\"text-align: right;\">\n",
       "      <th></th>\n",
       "      <th>Symbol</th>\n",
       "      <th>Aggregate Returns</th>\n",
       "      <th>Total Returns</th>\n",
       "    </tr>\n",
       "  </thead>\n",
       "  <tbody>\n",
       "    <tr>\n",
       "      <th>0</th>\n",
       "      <td>USDC</td>\n",
       "      <td>0.003457</td>\n",
       "      <td>0.009314</td>\n",
       "    </tr>\n",
       "    <tr>\n",
       "      <th>1</th>\n",
       "      <td>DAI</td>\n",
       "      <td>0.007078</td>\n",
       "      <td>0.016942</td>\n",
       "    </tr>\n",
       "    <tr>\n",
       "      <th>2</th>\n",
       "      <td>USDT</td>\n",
       "      <td>0.012008</td>\n",
       "      <td>0.035187</td>\n",
       "    </tr>\n",
       "    <tr>\n",
       "      <th>3</th>\n",
       "      <td>ALGO</td>\n",
       "      <td>0.011267</td>\n",
       "      <td>0.070707</td>\n",
       "    </tr>\n",
       "  </tbody>\n",
       "</table>\n",
       "</div>"
      ],
      "text/plain": [
       "  Symbol  Aggregate Returns  Total Returns\n",
       "0   USDC           0.003457       0.009314\n",
       "1    DAI           0.007078       0.016942\n",
       "2   USDT           0.012008       0.035187\n",
       "3   ALGO           0.011267       0.070707"
      ]
     },
     "execution_count": 9,
     "metadata": {},
     "output_type": "execute_result"
    }
   ],
   "source": [
    "col_names = ['Symbol','Aggregate Returns']\n",
    "returns_dataframe = pd.DataFrame(columns = col_names)\n",
    "for symbol in editing_dataframe['Symbol'].unique():\n",
    "    first_returns=(drpy(editing_dataframe.loc[editing_dataframe['Symbol'] == symbol,'Deposit Rate'].astype(float)).sum() + drpy(editing_dataframe.loc[editing_dataframe['Symbol'] == symbol,'Deposit Rewards'].astype(float)).sum())\n",
    "    dict_to_append = {\n",
    "        'Symbol': symbol,\n",
    "        'Aggregate Returns': drpy(editing_dataframe.loc[editing_dataframe['Symbol'] == symbol,'Deposit Rate'].astype(float)).sum(),\n",
    "        'Total Returns': first_returns\n",
    "    }\n",
    "    returns_dataframe = returns_dataframe.append(dict_to_append, ignore_index = True)\n",
    "Second_returns = other_dataframe['Return Difference'].sum() + other_dataframe['Rewards Gained'].sum()  \n",
    "dict_to_append = {\n",
    "        'Symbol': 'ALGO',\n",
    "        'Aggregate Returns': other_dataframe['Return Difference'].sum(),\n",
    "        'Total Returns': Second_returns\n",
    "}\n",
    "returns_dataframe = returns_dataframe.append(dict_to_append, ignore_index = True)\n",
    "returns_dataframe.head()\n",
    "# %%\n"
   ]
  },
  {
   "cell_type": "code",
   "execution_count": 10,
   "id": "0340740a-1180-4fa0-917a-5af60422a3b5",
   "metadata": {},
   "outputs": [
    {
     "data": {
      "text/plain": [
       "<AxesSubplot:title={'center':'Total Returns Over Time'}, xlabel='Symbol'>"
      ]
     },
     "execution_count": 10,
     "metadata": {},
     "output_type": "execute_result"
    },
    {
     "data": {
      "image/png": "[encoded data removed]",
      "text/plain": [
       "<Figure size 432x288 with 1 Axes>"
      ]
     },
     "metadata": {
      "needs_background": "light"
     },
     "output_type": "display_data"
    },
    {
     "data": {
      "image/png": "[encoded data removed]",
      "text/plain": [
       "<Figure size 432x288 with 1 Axes>"
      ]
     },
     "metadata": {
      "needs_background": "light"
     },
     "output_type": "display_data"
    }
   ],
   "source": [
    "returns_dataframe.plot.bar(x=\"Symbol\", y ='Aggregate Returns', color = 'Blue', title ='Aggregate Returns Over Time')\n",
    "returns_dataframe.plot.bar(x=\"Symbol\", y ='Total Returns', color = 'green', title ='Total Returns Over Time')"
   ]
  },
  {
   "cell_type": "code",
   "execution_count": null,
   "id": "d740feb0-ba54-4625-9331-9b8772f88ef2",
   "metadata": {},
   "outputs": [],
   "source": []
  }
 ],
 "metadata": {
  "kernelspec": {
   "display_name": "Python 3",
   "language": "python",
   "name": "python3"
  },
  "language_info": {
   "codemirror_mode": {
    "name": "ipython",
    "version": 3
   },
   "file_extension": ".py",
   "mimetype": "text/x-python",
   "name": "python",
   "nbconvert_exporter": "python",
   "pygments_lexer": "ipython3",
   "version": "3.7.9"
  }
 },
 "nbformat": 4,
 "nbformat_minor": 5
}
